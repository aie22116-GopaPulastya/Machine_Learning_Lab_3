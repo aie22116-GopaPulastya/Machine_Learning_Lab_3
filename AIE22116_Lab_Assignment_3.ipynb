{
  "nbformat": 4,
  "nbformat_minor": 0,
  "metadata": {
    "colab": {
      "provenance": []
    },
    "kernelspec": {
      "name": "python3",
      "display_name": "Python 3"
    },
    "language_info": {
      "name": "python"
    }
  },
  "cells": [
    {
      "cell_type": "code",
      "execution_count": 1,
      "metadata": {
        "colab": {
          "base_uri": "https://localhost:8080/"
        },
        "id": "63JNfwj6cfb1",
        "outputId": "cb97dd10-7a44-42f9-aeb3-206c1d8e77b4"
      },
      "outputs": [
        {
          "output_type": "stream",
          "name": "stdout",
          "text": [
            "The Matrix A with features details is:\n",
            " [[20  6  2]\n",
            " [16  3  6]\n",
            " [27  6  2]\n",
            " [19  1  2]\n",
            " [24  4  2]\n",
            " [22  1  5]\n",
            " [15  4  2]\n",
            " [18  4  2]\n",
            " [21  1  4]\n",
            " [16  2  4]]\n",
            "The Matrix C with payment deatils is:\n",
            " [386 289 393 110 280 167 271 274 148 198]\n",
            "\n",
            "The Rank of Matrix:  3\n",
            "\n",
            " The Pseudo inverse is :  [[-0.01008596 -0.03124505  0.01013951  0.0290728   0.0182907   0.01161794\n",
            "  -0.00771348  0.00095458  0.01743623 -0.00542016]\n",
            " [ 0.09059668  0.07263726  0.03172933 -0.09071908 -0.01893196 -0.06926996\n",
            "   0.05675464  0.03152577 -0.07641966  0.00357352]\n",
            " [ 0.00299878  0.15874243 -0.05795468 -0.06609024 -0.06295043  0.03348017\n",
            "   0.01541831 -0.01070461  0.00029003  0.05938755]]\n"
          ]
        }
      ],
      "source": [
        "\n",
        "import numpy as np\n",
        "data = np.array([\n",
        "    [20, 6, 2, 386],\n",
        "    [16, 3, 6, 289],\n",
        "    [27, 6, 2, 393],\n",
        "    [19, 1, 2, 110],\n",
        "    [24, 4, 2, 280],\n",
        "    [22, 1, 5, 167],\n",
        "    [15, 4, 2, 271],\n",
        "    [18, 4, 2, 274],\n",
        "    [21, 1, 4, 148],\n",
        "    [16, 2, 4, 198]\n",
        "])\n",
        "\n",
        "A = data[:, :-1]\n",
        "C = data[:, -1]\n",
        "print(\"The Matrix A with features details is:\\n\", A)\n",
        "print(\"The Matrix C with payment deatils is:\\n\", C)\n",
        "\n",
        "# What is the dimensionality of the vector space for this data?\n",
        "\n",
        "# The Dimensionality of the vector space is the number of features, in the given data in which is the number of columns in matrix A.\n",
        "# In this case the number of features is 3.\n",
        "\n",
        "\n",
        "# How many vectors exist in this vector space?\n",
        "\n",
        "# The number of vectors is the number of rows in matrix A. From the above dataset we can see it is 10.\n",
        "\n",
        "\n",
        "# What is the rank of Matrix A?\n",
        "\n",
        "# The rank of a matrix is the maximum number of linearly independent column vectors in the matrix.\n",
        "# We can calculate it using NumPy's linalg.matrix_rank function.\n",
        "\n",
        "# Rank of matrix A\n",
        "rank = np.linalg.matrix_rank(A)\n",
        "print(\"\\nThe Rank of Matrix: \", rank)\n",
        "\n",
        "# We can find the psuedo inverse of the matrix by using the function linalg.pinv() from the numpy library\n",
        "\n",
        "pseudoinv = np.linalg.pinv(A)\n",
        "print(\"\\n The Pseudo inverse is : \", pseudoinv)"
      ]
    },
    {
      "cell_type": "code",
      "source": [
        "# To Calculate the model vector X for predicting the cost of the products available with the vendor.\n",
        "# This can be done by multiplying the pseudo-inverse to the payment vector we can get the model vector.\n",
        "# X = pseudoinv(A) * C\n",
        "\n",
        "# Calculate the model vector X\n",
        "import numpy as np\n",
        "\n",
        "X = np.dot(pseudoinv, C)\n",
        "print(\"\\nThe model vector X for predicting the cost of the products:\", X)\n",
        "productcosts = np.dot(A, X)\n",
        "print(\"\\nThe cost of each product is as follows:\")\n",
        "for i, cost in enumerate(productcosts):\n",
        "    print(f\"The cost of Product {i+1} is: Rs.{cost:.2f}\")"
      ],
      "metadata": {
        "colab": {
          "base_uri": "https://localhost:8080/"
        },
        "id": "z1D-A0AlcowZ",
        "outputId": "4d4d8dc1-67f0-4db3-b61e-9a9c44224161"
      },
      "execution_count": 2,
      "outputs": [
        {
          "output_type": "stream",
          "name": "stdout",
          "text": [
            "\n",
            "The model vector X for predicting the cost of the products: [ 1. 55. 18.]\n",
            "\n",
            "The cost of each product is as follows:\n",
            "The cost of Product 1 is: Rs.386.00\n",
            "The cost of Product 2 is: Rs.289.00\n",
            "The cost of Product 3 is: Rs.393.00\n",
            "The cost of Product 4 is: Rs.110.00\n",
            "The cost of Product 5 is: Rs.280.00\n",
            "The cost of Product 6 is: Rs.167.00\n",
            "The cost of Product 7 is: Rs.271.00\n",
            "The cost of Product 8 is: Rs.274.00\n",
            "The cost of Product 9 is: Rs.148.00\n",
            "The cost of Product 10 is: Rs.198.00\n"
          ]
        }
      ]
    },
    {
      "cell_type": "code",
      "source": [
        "import numpy as np\n",
        "\n",
        "# Loading all the data from the excel given which describes the payment paid and the items purchased by 10 customers\n",
        "purchase_data = np.array([\n",
        "    [20, 6, 2, 386],\n",
        "    [16, 3, 6, 289],\n",
        "    [27, 6, 2, 393],\n",
        "    [19, 1, 2, 110],\n",
        "    [24, 4, 2, 280],\n",
        "    [22, 1, 5, 167],\n",
        "    [15, 4, 2, 271],\n",
        "    [18, 4, 2, 274],\n",
        "    [21, 1, 4, 148],\n",
        "    [16, 2, 4, 198]\n",
        "])\n",
        "\n",
        "# Caluculating the Euclidian Distance among the two data points\n",
        "def euclidean_distance(x1, x2):\n",
        "    return np.sqrt(np.sum((x1 - x2)**2))\n",
        "\n",
        "#Performing the KNN Classifier\n",
        "def knn_predict(X_train, y_train, x_test, k=3):\n",
        "    distances = []\n",
        "    for i, x_train in enumerate(X_train):\n",
        "        distance = euclidean_distance(x_train, x_test)\n",
        "        distances.append((distance, y_train[i]))\n",
        "    distances = sorted(distances)[:k]\n",
        "    counts = np.bincount([d[1] for d in distances])\n",
        "    return np.argmax(counts)\n",
        "\n",
        "# Create the binary data in which if the payment made is above 250 rupees then assignment 1 else zero\n",
        "y_train = np.where(purchase_data[:, -1] > 250, 1, 0)\n",
        "\n",
        "X_train = purchase_data[:, :-1]\n",
        "\n",
        "# Predicting the class for each customer payment given in the excel.\n",
        "print(\"Predicted Classes:\")\n",
        "for i, customer in enumerate(X_train):\n",
        "    predicted_class = knn_predict(X_train, y_train, customer)\n",
        "    if predicted_class == 1:\n",
        "        print(f\"Customer {i+1}: RICH\")\n",
        "    else:\n",
        "        print(f\"Customer {i+1}: POOR\")\n",
        ""
      ],
      "metadata": {
        "colab": {
          "base_uri": "https://localhost:8080/"
        },
        "id": "2b454kWncsey",
        "outputId": "e7ff74d8-0179-49ce-cbdd-d6e3d408eecc"
      },
      "execution_count": 3,
      "outputs": [
        {
          "output_type": "stream",
          "name": "stdout",
          "text": [
            "Predicted Classes:\n",
            "Customer 1: RICH\n",
            "Customer 2: RICH\n",
            "Customer 3: RICH\n",
            "Customer 4: POOR\n",
            "Customer 5: RICH\n",
            "Customer 6: POOR\n",
            "Customer 7: RICH\n",
            "Customer 8: RICH\n",
            "Customer 9: POOR\n",
            "Customer 10: RICH\n"
          ]
        }
      ]
    },
    {
      "cell_type": "code",
      "source": [
        "import pandas as pd\n",
        "import matplotlib.pyplot as plt\n",
        "import seaborn as sns\n",
        "import statistics\n",
        "\n",
        "# Reading the excel file IRCTC Stock Price from the file path\n",
        "path = \"C:\\\\Users\\\\Pullu\\\\Downloads\\\\IRCTC Stock Price.xlsx\"\n",
        "df = pd.read_excel(path)\n",
        "\n",
        "# From the library Statistics by using the predefined functions mean and variance to find the mean and variance from the Price\n",
        "mean_of_price = statistics.mean(df['Price'])\n",
        "variance_of_price = statistics.variance(df['Price'])\n",
        "print(\"The Mean of the column Price data is:\", mean_of_price)\n",
        "print(\"The Variance of the column Price data is:\", variance_of_price)\n",
        "\n",
        "# Convert 'Date' column to datetime\n",
        "df['Date'] = pd.to_datetime(df['Date'])\n",
        "\n",
        "# Selecting the column Price on Wednesday and finding the Sample Mean\n",
        "wednesday = df[df['Day'] == 'Wed']['Price']\n",
        "sample_mean_wednesday = statistics.mean(wednesday)\n",
        "print(\"The Sample mean of Wednesday for the column prices is:\", sample_mean_wednesday)\n",
        "\n",
        "# Selecting the price data for the month of April and calculating the sample mean\n",
        "april = df[df['Month'] == 'Apr']['Price']\n",
        "sample_mean_april = statistics.mean(april)\n",
        "print(\"The Sample mean of April for the column prices is:\", sample_mean_april)\n",
        "\n",
        "# Probability for making loss\n",
        "chg_percentages = df['Chg%'].apply(lambda x: float(x.strip('%')) if isinstance(x, str) else x)\n",
        "loss_probability = len(chg_percentages[chg_percentages < 0]) / len(chg_percentages)\n",
        "print(\"The Probability of making a loss over the stock is:\", loss_probability)\n",
        "\n",
        "# Probability of making a profit on Wednesday\n",
        "profit_probability = len(wednesday[wednesday.diff() > 0]) / len(wednesday)\n",
        "print(\"The Probability of making a profit on Wednesday is:\", profit_probability)\n",
        "\n",
        "# Conditional probability of making profit, given that today is Wednesday\n",
        "conditional_profit_probability = len(wednesday[wednesday.diff() > 0]) / len(wednesday)\n",
        "print(\"The Conditional probability of making profit on Wednesday is:\", conditional_profit_probability)\n",
        "\n",
        "# Scatter plot of Chg% data against the day of the week\n",
        "plt.figure(figsize=(10, 6))\n",
        "sns.scatterplot(data=df, x='Day', y='Chg%')\n",
        "plt.title('The Scatter plot of Chg% data against the day of the week')\n",
        "plt.xlabel('Day of the week')\n",
        "plt.ylabel('Chg%')\n",
        "plt.show()"
      ],
      "metadata": {
        "id": "4zrJaue7cwKs"
      },
      "execution_count": null,
      "outputs": []
    }
  ]
}